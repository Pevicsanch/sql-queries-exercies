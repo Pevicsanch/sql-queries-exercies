{
 "cells": [
  {
   "cell_type": "markdown",
   "metadata": {},
   "source": [
    "# SQL query examples\n",
    "_____\n",
    "### Here are a few of the queries I have worked with\n",
    "\n",
    "*the examples are written in PostgreSQL*\n",
    "\n",
    "___"
   ]
  },
  {
   "cell_type": "markdown",
   "metadata": {},
   "source": [
    "based on the following tables:\n",
    "\n",
    "**country**\n",
    "\n",
    "| id | name | \n",
    "\n",
    "$~$\n",
    "\n",
    "**match**\n",
    "\n",
    "| id | country_id | season | stage | date | hometeam_id | awayteam_id | home_goal | away_goal |\n",
    "\n"
   ]
  },
  {
   "cell_type": "markdown",
   "metadata": {},
   "source": [
    "The goal of this query is to generate a subquery using the match table, and then join that subquery to the country table to calculate information about matches with 10 or more goals in total!"
   ]
  },
  {
   "cell_type": "markdown",
   "metadata": {},
   "source": [
    "### Joining Subqueries in FROM\n"
   ]
  },
  {
   "cell_type": "code",
   "execution_count": null,
   "metadata": {
    "vscode": {
     "languageId": "sql"
    }
   },
   "outputs": [],
   "source": [
    "SELECT\n",
    "\t-- Select country name and the count match IDs\n",
    "    c.name AS country_name,\n",
    "    COUNT(sub.id) AS matches\n",
    "FROM country AS c\n",
    "-- Inner join the subquery onto country\n",
    "-- Select the country id and match id columns\n",
    "INNER JOIN (SELECT country_id, id \n",
    "            FROM match\n",
    "            -- Filter the subquery by matches with 10+ goals\n",
    "            WHERE (home_goal + away_goal) >= 10) AS sub\n",
    "ON c.id = sub.country_id\n",
    "GROUP BY country_name;"
   ]
  },
  {
   "cell_type": "markdown",
   "metadata": {},
   "source": [
    "It generated a count of matches in each country where the total goals was higher than 10. "
   ]
  },
  {
   "cell_type": "markdown",
   "metadata": {},
   "source": [
    "### Building on Subqueries in FROM\n",
    "\n"
   ]
  },
  {
   "cell_type": "markdown",
   "metadata": {},
   "source": [
    " find out some more details about those matches -- when they were played, during which seasons, and how many of the goals were home versus away goals."
   ]
  },
  {
   "cell_type": "code",
   "execution_count": null,
   "metadata": {
    "vscode": {
     "languageId": "sql"
    }
   },
   "outputs": [],
   "source": [
    "SELECT\n",
    "\t-- Select country, date, home, and away goals from the subquery\n",
    "    country,\n",
    "    date,\n",
    "    home_goal,\n",
    "    away_goal\n",
    "FROM \n",
    "\t-- Select country name, date, home_goal, away_goal, and total goals in the subquery\n",
    "\t(SELECT name AS country, \n",
    "     \t    m.date, \n",
    "     \t\tm.home_goal, \n",
    "     \t\tm.away_goal,\n",
    "           (m.home_goal + m.away_goal) AS total_goals\n",
    "    FROM match AS m\n",
    "    LEFT JOIN country AS c\n",
    "    ON m.country_id = c.id) AS subq\n",
    "-- Filter by total goals scored in the main query\n",
    "WHERE total_goals >= 10;"
   ]
  },
  {
   "cell_type": "markdown",
   "metadata": {},
   "source": [
    "### Add a subquery to the SELECT clause\n",
    "\n"
   ]
  },
  {
   "cell_type": "markdown",
   "metadata": {},
   "source": [
    "With a subquery in select, you can compare each league's average to the overall average"
   ]
  },
  {
   "cell_type": "code",
   "execution_count": null,
   "metadata": {
    "vscode": {
     "languageId": "sql"
    }
   },
   "outputs": [],
   "source": [
    "SELECT \n",
    "\tl.name AS league,\n",
    "    -- Select and round the league's total goals\n",
    "    ROUND(AVG(M.home_goal + m.away_goal), 2) AS avg_goals,\n",
    "    -- Select & round the average total goals for the season\n",
    "    (SELECT ROUND(AVG(home_goal + away_goal), 2) \n",
    "     FROM match\n",
    "     WHERE season = '2013/2014') AS overall_avg\n",
    "FROM league AS l\n",
    "LEFT JOIN match AS m\n",
    "ON l.country_id = m.country_id\n",
    "-- Filter for the 2013/2014 season\n",
    "WHERE season = '2013/2014'\n",
    "GROUP BY league;"
   ]
  },
  {
   "cell_type": "markdown",
   "metadata": {},
   "source": [
    "the result is a table like this:\n",
    "\n",
    "| league | avg_goals | overall_avg |"
   ]
  },
  {
   "cell_type": "markdown",
   "metadata": {},
   "source": [
    "### Subqueries in Select for Calculations\n",
    "\n",
    "$~$\n",
    "\n",
    "In the previous query, I created a column to compare each league's average total goals to the overall average goals in the 2013/2014 season. In this query, I will add a column that directly compares these values by subtracting the overall average from the subquery."
   ]
  },
  {
   "cell_type": "code",
   "execution_count": null,
   "metadata": {
    "vscode": {
     "languageId": "sql"
    }
   },
   "outputs": [],
   "source": [
    "SELECT \n",
    "\t-- Select the league name and average goals scored\n",
    "\tl.name AS league,\n",
    "\tROUND(AVG(m.home_goal + m.away_goal),2) AS avg_goals,\n",
    "    -- Subtract the overall average from the league average\n",
    "\tROUND(AVG(m.home_goal + m.away_goal) - \n",
    "          (SELECT AVG(home_goal + away_goal)\n",
    "           FROM match \n",
    "    -- filter subquery\n",
    "           WHERE season = '2013/2014'),2) AS diff\n",
    "FROM league AS l\n",
    "LEFT JOIN match AS m\n",
    "ON l.country_id = m.country_id\n",
    "-- Filter the main query only include 2013/2014 results\n",
    "WHERE m.season = '2013/2014'\n",
    "GROUP BY l.name;"
   ]
  },
  {
   "cell_type": "markdown",
   "metadata": {},
   "source": [
    "the result is a table like this:\n",
    "\n",
    "|league| avg_goals| diff\n"
   ]
  }
 ],
 "metadata": {
  "kernelspec": {
   "display_name": "Python 3.9.5 64-bit ('3.9.5')",
   "language": "python",
   "name": "python3"
  },
  "language_info": {
   "codemirror_mode": {
    "name": "ipython",
    "version": 3
   },
   "file_extension": ".py",
   "mimetype": "text/x-python",
   "name": "python",
   "nbconvert_exporter": "python",
   "pygments_lexer": "ipython3",
   "version": "3.9.5"
  },
  "orig_nbformat": 4,
  "vscode": {
   "interpreter": {
    "hash": "c196e456b92eeb3a60b06f99b3c60ac6c4763f8bb1169beee1475ccb9dd5a29f"
   }
  }
 },
 "nbformat": 4,
 "nbformat_minor": 2
}
